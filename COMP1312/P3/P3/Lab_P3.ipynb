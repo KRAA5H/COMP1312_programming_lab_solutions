{
 "cells": [
  {
   "cell_type": "markdown",
   "id": "e66f52c5",
   "metadata": {},
   "source": [
    "# COMP1312 - Lab P3 - Dictionaries and Ragged Lists\n",
    "<div style=\"text-align: right\"><i>(by Frederick Nash, Heather Packer, and Son Hoang)</i></div>"
   ]
  },
  {
   "cell_type": "markdown",
   "id": "cf55a404",
   "metadata": {},
   "source": [
    "## 1. Introduction\n",
    "### 1.1. Aims and Learning Outcomes\n",
    "This laboratory aims to:\n",
    "- Understand how to initialise, access, update, and remove elements in Python dictionaries.\n",
    "- Understand techniques for iterating over dictionaries and managing nested dictionaries.\n",
    "- Understand how to manipulate ragged lists through flattening, element access, and calculating statistics.\n",
    "\n",
    "When you complete this laboratory, you will be able to:\n",
    "- Use Python dictionaries for organising and managing key-value pairs, including handling nested dictionaries and avoiding `KeyErrors`.\n",
    "- Write functions that flatten ragged lists, access elements at specific indices, and compute statistics such as the sum and average of list elements.\n",
    "- Implement proper error handling for invalid inputs, ensuring robust and reliable code.\n",
    "- Use PyCharm to develop, debug, and test Python programs, including utilising its syntax highlighting, type checking, and debugging tools to enhance code quality.\n",
    "\n",
    "### 1.2. Schedule\n",
    "- Preparation Time: 1 hour\n",
    "- Lab Time: 2 hours\n",
    "\n",
    "### 1.3. Required Items\n",
    "- Your logbook + pen\n",
    "- (Optional) Your laptop with software ready to use (i.e., as instructed in Lab [P0](https://moodle.ecs.soton.ac.uk/mod/page/view.php?id=20229))\n",
    "\n",
    "### 1.4. Conventions\n",
    "| Symbols | Explanation |\n",
    "| ------- | ----------- |\n",
    "|![logbook entry](logbook.png \"Logbook\") | An entry should be made in your logbook |\n",
    "|```code``` | Code to be entered (e.g., command line or to an editor) |\n",
    "|![Be careful](small-attention.png \"alert\") | Care should be exercised |\n",
    "\n",
    "### 1.5. Instructions\n",
    "Before starting the lab, you should complete the preparation tasks in Section 2 and take the Preparation section of the [Lab P3 Quiz](https://moodle.ecs.soton.ac.uk/mod/quiz/view.php?id=21779).\n",
    "\n",
    "You will undertake the lab work individually. During the lab, you *must* use your logbook to record what you have done, what works, and what does not work. You can refer to the logbook in the future, e.g., to remind you about the procedures or how you overcame problems. As such, it should be legible, and the notes should be clearly referenced to the appropriate part of the lab. You will be informed when you should make an entry in your logbook. However, you are encouraged to record additional entries, especially when something unexpected occurs or when you discover something of interest.\n",
    "\n",
    "You will take quizzes on Progress and Understanding. The deadline for completing the [Lab P3 Quiz](https://moodle.ecs.soton.ac.uk/mod/quiz/view.php?id=21779) is **16:00 on Friday, 7th November 2025 (Week 6)**.\n",
    "\n",
    "There will be 20 marks for Lab P3:\n",
    "\n",
    "- Preparation Quiz: 4\n",
    "- Progress Quiz: 5\n",
    "- Understanding Quiz: 7\n",
    "- Logbook: 4 "
   ]
  },
  {
   "cell_type": "markdown",
   "id": "baa8df0a",
   "metadata": {},
   "source": [
    "## 2. Preparation\n",
    "You should be familiar with the content of the following lectures:\n",
    "- Lecture L1.3. Variables (Input/Output)\n",
    "- Lecture L2.2. Loops\n",
    "- Lecture L3.1. Lists\n",
    "- Lecture L3.2. Tuples and Dictionaries"
   ]
  },
  {
   "cell_type": "markdown",
   "id": "d910d109",
   "metadata": {},
   "source": [
    "### 2.1. The Python Documentation (References)\n",
    "\n",
    "This lab will involve predefined data structures in Python. You can always come back to this section to find the links to their documentation.\n",
    "- [Dictionaries in Python](https://docs.python.org/3/tutorial/datastructures.html#dictionaries)\n",
    "- [Looping Techniques in Python](https://docs.python.org/3/tutorial/datastructures.html#looping-techniques)\n",
    "- [Basic date and time types](https://docs.python.org/3/library/datetime.html)\n",
    "- [Sorting Techniques](https://docs.python.org/3/howto/sorting.html)"
   ]
  },
  {
   "cell_type": "markdown",
   "id": "00c8f731",
   "metadata": {},
   "source": [
    "### 2.2. Key Concepts to Understand"
   ]
  },
  {
   "cell_type": "markdown",
   "id": "4c14eac1",
   "metadata": {},
   "source": [
    "#### 2.2.1. Initialising Dictionaries\n",
    "Dictionary is a data structure that stores key-value pairs, similar to a map in other programming languages.\n",
    "\n",
    "For example, if you want to record the number of birds of different species you’ve seen, you can use a dictionary where species names are the keys, and the counts are the values.\n",
    "\n",
    "You can initialise an empty dictionary with `{}` or a pre-populated dictionary using key-value pairs within curly braces.\n",
    "\n",
    "##### Example"
   ]
  },
  {
   "cell_type": "code",
   "execution_count": null,
   "id": "85fc2d7f",
   "metadata": {},
   "outputs": [],
   "source": [
    "empty_dict = {}\n",
    "\n",
    "# Initializing a dictionary\n",
    "my_dict = {'a': 1, 'b': 2, 'c': 3}"
   ]
  },
  {
   "cell_type": "markdown",
   "id": "24488840",
   "metadata": {},
   "source": [
    "![logbook entry](logbook.png \"Logbook\") Please write in your logbook some examples for Python dictionaries."
   ]
  },
  {
   "cell_type": "markdown",
   "id": "65edc319",
   "metadata": {},
   "source": [
    "#### 2.2.2. Accessing Dictionary Elements\n",
    "You can retrieve values by referring to their key. If you try to access a key that doesn’t exist, Python will raise a `KeyError`. Alternatively, you can use the `get(key, default_value)` method, which allows you to provide a default value if the key isn’t found.\n",
    "\n",
    "##### Example"
   ]
  },
  {
   "cell_type": "code",
   "execution_count": null,
   "id": "7422ea40",
   "metadata": {},
   "outputs": [],
   "source": [
    "# Accessing elements\n",
    "print(my_dict['a'])\n",
    "print(my_dict['d'])"
   ]
  },
  {
   "cell_type": "code",
   "execution_count": null,
   "id": "22191050",
   "metadata": {},
   "outputs": [],
   "source": [
    "# Accessing elements with get()\n",
    "print(my_dict.get('a', 'Key not found'))\n",
    "print(my_dict.get('d', 'Key not found'))"
   ]
  },
  {
   "cell_type": "markdown",
   "id": "80b1f934",
   "metadata": {},
   "source": [
    "You can also use the `in` operator to check whether a dictionary contains a key, without retrieving the value.\n",
    "\n",
    "##### Example"
   ]
  },
  {
   "cell_type": "code",
   "execution_count": null,
   "id": "936b4853",
   "metadata": {},
   "outputs": [],
   "source": [
    "if 's' in my_dict:\n",
    "    print(f\"s: {my_dict['s']}\")\n",
    "else:\n",
    "    print(\"s was not found\")"
   ]
  },
  {
   "cell_type": "markdown",
   "id": "0e05c5b9",
   "metadata": {},
   "source": [
    "![logbook entry](logbook.png \"Logbook\") Please write in your logbook some examples of accessing your dictionaries from the previous logbook entries. Include both cases when the keys are present in the dictionary and when the keys are not present in the dictionary."
   ]
  },
  {
   "cell_type": "markdown",
   "id": "bb2d5ea4",
   "metadata": {},
   "source": [
    "#### 2.2.3. Adding and Updating Dictionary Elements\n",
    "\n",
    "You can add new key-value pairs by assigning a value to a new key in the dictionary.\n",
    "\n",
    "##### Example\n",
    "\n",
    "Let's assume the existing dictionary looks like this:"
   ]
  },
  {
   "cell_type": "code",
   "execution_count": null,
   "id": "87515394",
   "metadata": {},
   "outputs": [],
   "source": [
    "bird_counts = {'Magpie': 3, 'Sparrow': 5}"
   ]
  },
  {
   "cell_type": "markdown",
   "id": "e8aff830",
   "metadata": {},
   "source": [
    "To add a new species, such as a `\"Mallard\"` with a count of `1`, you would do the following:"
   ]
  },
  {
   "cell_type": "code",
   "execution_count": null,
   "id": "f05a66ff",
   "metadata": {},
   "outputs": [],
   "source": [
    "bird_counts['Mallard'] = 1"
   ]
  },
  {
   "cell_type": "markdown",
   "id": "c9116556",
   "metadata": {},
   "source": [
    "Now, the dictionary would look like this:\n",
    "```\n",
    "{'Magpie': 3, 'Sparrow': 5, 'Mallard': 1}\n",
    "```\n",
    "If the key already exists, assigning a new value will update the existing one."
   ]
  },
  {
   "cell_type": "markdown",
   "id": "88bcf4bc",
   "metadata": {},
   "source": [
    "![logbook entry](logbook.png \"Logbook\") Please write in your logbook some examples for adding and updating your dictionaries."
   ]
  },
  {
   "cell_type": "markdown",
   "id": "88485d83",
   "metadata": {},
   "source": [
    "####  2.2.4. Removing Dictionary Elements\n",
    "\n",
    "You can use the `pop(key)` method to remove a key-value pair. It returns the value associated with the removed key and raises a `KeyError` if the key is not present unless you provide a default value.\n",
    "\n",
    "It’s a good idea to check if a key exists before trying to remove it to avoid errors.\n",
    "\n",
    "##### Example\n",
    "If you want to remove a species, like a \"Magpie\", from the dictionary, you can use the pop(key) method. This will remove the key-value pair and return the count of that species.\n",
    "\n",
    "Given this dictionary:"
   ]
  },
  {
   "cell_type": "code",
   "execution_count": null,
   "id": "4b568321-0143-45ea-9ada-7cecc8fd64ac",
   "metadata": {},
   "outputs": [],
   "source": [
    "bird_counts = {'Magpie': 3, 'Sparrow': 5, 'Mallard': 1}"
   ]
  },
  {
   "cell_type": "markdown",
   "id": "6d2435cf",
   "metadata": {},
   "source": [
    "To remove Magpie, you can do the following:"
   ]
  },
  {
   "cell_type": "code",
   "execution_count": null,
   "id": "5b375a28",
   "metadata": {},
   "outputs": [],
   "source": [
    "removed_count = bird_counts.pop('Magpie')"
   ]
  },
  {
   "cell_type": "markdown",
   "id": "0cca47fa",
   "metadata": {},
   "source": [
    "Now, the dictionary will be updated:\n",
    "```\n",
    "{'Sparrow': 5, 'Mallard': 1}\n",
    "```"
   ]
  },
  {
   "cell_type": "markdown",
   "id": "93ca9f47",
   "metadata": {},
   "source": [
    "![logbook entry](logbook.png \"Logbook\") Please write in your logbook some examples to remove elements for your dictionaries using `pop(key)`."
   ]
  },
  {
   "cell_type": "markdown",
   "id": "4986ed8c",
   "metadata": {},
   "source": [
    "#### 2.2.5. Iterating Over Dictionary Elements and the Order of Keys in a Dictionary\n",
    "You can loop over the dictionary to access each key and value pair.\n",
    "##### Example\n",
    "Let’s say you have a dictionary tracking bird species and their counts."
   ]
  },
  {
   "cell_type": "code",
   "execution_count": null,
   "id": "74706cde",
   "metadata": {},
   "outputs": [],
   "source": [
    "bird_counts = {'Magpie': 3, 'Sparrow': 5, 'Mallard': 1}"
   ]
  },
  {
   "cell_type": "markdown",
   "id": "ce7d8b37",
   "metadata": {},
   "source": [
    "You can loop over the dictionary to access each key (species) and value (count) pair:"
   ]
  },
  {
   "cell_type": "code",
   "execution_count": null,
   "id": "8a4d66c7",
   "metadata": {},
   "outputs": [],
   "source": [
    "for species, count in bird_counts.items():\n",
    "  print(f\"Species: {species}, Count: {count}\")"
   ]
  },
  {
   "cell_type": "markdown",
   "id": "75dbf619",
   "metadata": {},
   "source": [
    "![logbook entry](logbook.png \"Logbook\") Since modern versions of Python (3.7+) preserve the insertion order, make a prediction as to what ordered the elements of `bird_counts` will be printed in, and write this in your logbook. Run the code and compare the result to see if they match your prediction."
   ]
  },
  {
   "cell_type": "markdown",
   "id": "49995bb9",
   "metadata": {},
   "source": [
    "#### 2.2.6. Nested Dictionaries\n",
    "\n",
    "You can store dictionaries within dictionaries, allowing for more complex data storage. You can safely access nested dictionary elements by checking if the keys exist first to avoid errors. Otherwise, attempting to access a nonexistent key could result in a `KeyError`.\n",
    "\n",
    "##### Example\n",
    "You can use a nested dictionary to store multiple attributes (like size, sound, and habitat) for each bird species. Here’s an example where each bird species has its own dictionary of attributes:"
   ]
  },
  {
   "cell_type": "code",
   "execution_count": null,
   "id": "c69ec71c",
   "metadata": {},
   "outputs": [],
   "source": [
    "birds = {\n",
    "  'Magpie': {'Size': 'Medium', 'Sound': 'Clatter Clatter Clatter'},\n",
    "  'Mute Swan': {'Size': 'Very Large', 'Sound': 'Hiss'},\n",
    "  'Mallard': {'Size': 'Small', 'Sound': 'Quack'}\n",
    "}"
   ]
  },
  {
   "cell_type": "markdown",
   "id": "010c4200",
   "metadata": {},
   "source": [
    "To safely access the attributes of a bird species, you can first check if both the species and the attribute exist in the dictionary to avoid a `KeyError`. Here's how you would do that (try the code to see the output):"
   ]
  },
  {
   "cell_type": "code",
   "execution_count": null,
   "id": "09f81952",
   "metadata": {},
   "outputs": [],
   "source": [
    "species = 'Mute Swan'\n",
    "attribute = 'Sound'\n",
    "\n",
    "if species in birds and attribute in birds[species]:\n",
    "  print(f\"The {attribute} of a {species} is: {birds[species][attribute]}\")\n",
    "else:\n",
    "  print(f\"{species} or {attribute} not found\")\n",
    "  my_list = [[1, 2, 3], [4, 5, 6]]\n",
    "print(len(my_list))"
   ]
  },
  {
   "cell_type": "markdown",
   "id": "387df49b",
   "metadata": {},
   "source": [
    "*Note: Mute Swans are not actually mute*\n",
    "\n",
    "If you try to access a species or attribute that doesn’t exist, like checking for the `\"Sound\"` of a `\"Penguin\"` or `\"Color\"` of a `\"Magpie\"`, it’s safer to check first to avoid errors (try the code to see the output):"
   ]
  },
  {
   "cell_type": "code",
   "execution_count": null,
   "id": "8e9caefd",
   "metadata": {},
   "outputs": [],
   "source": [
    "species = 'Penguin'\n",
    "attribute = 'Sound'\n",
    "\n",
    "if species in birds and attribute in birds[species]:\n",
    "  print(f\"The {attribute} of a {species} is: {birds[species][attribute]}\")\n",
    "else:\n",
    "  print(f\"{species} or {attribute} not found\")"
   ]
  },
  {
   "cell_type": "markdown",
   "id": "726e25e8",
   "metadata": {},
   "source": [
    "This ensures that you don't run into a `KeyError` when accessing nested elements in a dictionary.\n",
    "\n",
    "![logbook entry](logbook.png \"Logbook\") Please write an example of a nested dictionary in your logbook."
   ]
  },
  {
   "cell_type": "markdown",
   "id": "4a2887cd",
   "metadata": {},
   "source": [
    "### 2.3. Preparation Quiz\n",
    "You can now take the Preparation section of the [Lab P3 Quiz](https://moodle.ecs.soton.ac.uk/mod/quiz/view.php?id=21779)."
   ]
  },
  {
   "cell_type": "markdown",
   "id": "46f84faa",
   "metadata": {},
   "source": [
    "## 3. Laboratory Work\n",
    "The lab will be in two parts for progress and understanding. "
   ]
  },
  {
   "cell_type": "markdown",
   "id": "76dbd9e2",
   "metadata": {},
   "source": [
    "### 3.1. Progress"
   ]
  },
  {
   "cell_type": "markdown",
   "id": "fe2497e4",
   "metadata": {},
   "source": [
    "#### 3.1.1. Ragged Lists\n",
    "In this part, we create a Python program that manipulates ragged lists, specifically focusing on operations like flattening, accessing elements, and calculating statistics.\n",
    "\n",
    "A ragged list is a list of lists where the sub-lists can be different lengths.\n",
    "\n",
    "The following code is ragged list:"
   ]
  },
  {
   "cell_type": "code",
   "execution_count": null,
   "id": "9e08a7c2",
   "metadata": {},
   "outputs": [],
   "source": [
    "ragged_list = [[1, 2, 3], [4, 5], [6, 7, 8, 9], [10], [11, 12, 13]]"
   ]
  },
  {
   "cell_type": "markdown",
   "id": "ae488736",
   "metadata": {},
   "source": [
    "##### Flatten the Ragged List\n",
    "Write a function `flatten_ragged_list(ragged_list)` that takes a ragged list as input and returns a flattened version of it. The flattened list should be a single list containing all elements from the sublists in the original ragged list in the same order. Remember to add the type hints for the function so that it will pass `mypy` check with `--strict` option."
   ]
  },
  {
   "cell_type": "code",
   "execution_count": null,
   "id": "3417ff62",
   "metadata": {},
   "outputs": [],
   "source": [
    "# Complete the implementation for flatten_ragged_list\n",
    "def flatten_ragged_list(ragged_list): pass"
   ]
  },
  {
   "cell_type": "markdown",
   "id": "2f496830",
   "metadata": {},
   "source": [
    "##### Access Element\n",
    "Write a function `access_element(ragged_list, i, j)` that accesses the element at position `(i, j)` in the ragged list. You should return a tuple of an `int` represent the error code, and the element of the input `ragged_list` at position `(i, j)` if there are no errors. Tuples are a convenient way of returning multiple values from a function. The correct type for this `tuple[int, float, int, int]`, denoting a tuple of 4 values, the first of which is an `int`, the next a `float`, and so on. To return a tuple of, say, three variables called `x`, `y`, and `z`, you can write `return (x, y, z)`. For testing, you can access the elements of the tuples the same way you would access the elements of a list, e.g. `my_tuple[0]`.\n",
    "\n",
    "- If i is out of bounds, you should return the tuple where the error code is `1` and the element is `None`.\n",
    "- If j is out of bounds, you should return the tuple where the error code is `2` and the element is `None`.\n",
    "- If `ragged_list` is None, you should return the tuple where the error code is `3` and the element is `None`.\n",
    "- Otherwise, you should return the tuple where the error code is 0 and the element at position `(i, j)` of the input `ragged_list`."
   ]
  },
  {
   "cell_type": "markdown",
   "id": "a61a97a9",
   "metadata": {},
   "source": [
    "##### Calculate Statistics\n",
    "\n",
    "Write a function `calculate_statistics(ragged_list)`. It should use the `flatten_ragged_list(ragged_list)` and compute basic statistics on the elements of the ragged list of integers:\n",
    "- Total number of elements\n",
    "- Average value of all elements\n",
    "- The maximum value\n",
    "- Sum of all elements\n",
    "\n",
    "You should return a tuple of the four results, in that order, and may assume that the input is not `None` and not empty. "
   ]
  },
  {
   "cell_type": "code",
   "execution_count": null,
   "id": "b7781fb5",
   "metadata": {},
   "outputs": [],
   "source": [
    "# Complete the implementation of this function\n",
    "def calculate_statistics(ragged_list): pass"
   ]
  },
  {
   "cell_type": "markdown",
   "id": "af5bf69e",
   "metadata": {},
   "source": [
    "#### 3.1.2. Working with Dates and Times"
   ]
  },
  {
   "cell_type": "markdown",
   "id": "2229c4da",
   "metadata": {},
   "source": [
    "##### Datetime Objects\n",
    "Python has a module called `datetime` with useful functionality for working with dates and times. The `datetime` module documentation is here: https://docs.python.org/3/library/datetime.html : find the \"Available Types\" section, to see what sort of data this module supports. For example, `date` and `time` are classes (types) that represent a calendar date and time-of-day respectively; `datetime` is another class, and includes both date and time information, so represents a specific time on a specific day.\n",
    "\n",
    "![logbook entry](logbook.png \"Logbook\") What would be an appropriate type to use to represent someone's date of birth? What about when your next dentist appointment begins? What about the time your alarm clocks goes off every morning? Justify your reasons in your log book.\n",
    "\n",
    "The `datetime` class has attributes and methods to query the day of the year, hours since midnight, minutes and seconds since the hour, and more. We access properties and methods on objects using dot `.` notation: `today.hour` will query the `hour` property of the object represented by `today`. Dot notation is also used to call static methods, as in `datetime.today()`, but don't worry about those for now (`datetime` is a type, not a variable)."
   ]
  },
  {
   "cell_type": "code",
   "execution_count": null,
   "id": "210ea73e",
   "metadata": {},
   "outputs": [],
   "source": [
    "from datetime import datetime, timedelta\n",
    "\n",
    "now = datetime.now()\n",
    "\n",
    "print(f\"The time now is {now.hour}:{now.minute}\")\n",
    "\n",
    "print(f\"The current year is {now.year}\")"
   ]
  },
  {
   "cell_type": "markdown",
   "id": "ed52f1e8",
   "metadata": {},
   "source": [
    "In this code example, note that we imported the `datetime` and `timedelta` classes from the `datetime` module: this allows us to use functions provided by these types in our code without qualifying which modules they belong to every time we want to use them: don't worry too much about that either.\n",
    "\n",
    "F-strings provide a convenient syntax for changing how the objects themselves are printed 0 for example, the precision at which to print a `float` - by providing a format string after a colon `:` within the curly braces `{}`. This is particularly useful with `datetime` objects, as the format allows you to print only the attributes that you need, in a layout of your choice."
   ]
  },
  {
   "cell_type": "code",
   "execution_count": null,
   "id": "189fd73e",
   "metadata": {},
   "outputs": [],
   "source": [
    "# default format (no format specified)\n",
    "print(f'{now}')\n",
    "\n",
    "# Friendly format\n",
    "print(f'{now:%B %d, %Y, %H:%M}')\n",
    "\n",
    "# ISO 8601 date-only format\n",
    "print(f'{now:%Y-%m-%d}')\n",
    "\n",
    "# 12-hour clock\n",
    "print(f'{now:%I:%M %p}')"
   ]
  },
  {
   "cell_type": "markdown",
   "id": "8dfd3baa",
   "metadata": {},
   "source": [
    "The formats are much more concise than manually extracting each part of the date format separately as in the previous code example. The documentation provides a comprehensive list of available formats: https://docs.python.org/3/library/datetime.html#format-codes\n",
    "\n",
    "![logbook](logbook.png) From the examples above and documentation, design datetime format strings to print out the date in the UK format `day/month/year` and american format `month/day/year`. Write your solutions in your logbook, and make a note of any advantages you might see to the ISO 8601 format. Note that placeholders (and Python in general) are case-sensitive: `%M` is different from `%m`. Look up what the `%y` placeholders substitutes for in the documentation and record this information in your logbook.\n",
    "\n",
    "![logbook](logbook.png) Many of the placeholders resolve to a \"zero-padded\" string: describe what this means in your logbook, and why it is significant."
   ]
  },
  {
   "cell_type": "markdown",
   "id": "44b731dc",
   "metadata": {},
   "source": [
    "##### Datetime Arithmetics\n",
    "We can perform basic calculations using the `datetime` module: for example, adding or subtracting a `timedelta` from a `datetime` to move into the future or past, and subtracting two `datetime` objects to determine how much time elapsed between the two times. Review the documentation for `timedelta`.\n",
    "\n",
    "Read the following code and then run it to see what it prints out. Try changing the code so that it tells you the difference between the `datetime` objects `date` and `now` in days instead of seconds."
   ]
  },
  {
   "cell_type": "code",
   "execution_count": null,
   "id": "4b833d7c",
   "metadata": {},
   "outputs": [],
   "source": [
    "from datetime import datetime, timedelta\n",
    "\n",
    "now = datetime.now()\n",
    "\n",
    "# subtract 2 hours from now\n",
    "date = now - timedelta(hours = 48)\n",
    "\n",
    "# find the difference between the two datetime objects\n",
    "delta = now - date\n",
    "seconds = delta.total_seconds()\n",
    "\n",
    "print(f'{date:%B %d, %Y, %H:%M:%S}')\n",
    "print(f'Difference of {seconds} seconds')"
   ]
  },
  {
   "cell_type": "markdown",
   "id": "fdb4fe7e",
   "metadata": {},
   "source": [
    "Note that we are using the same minus operator symbol that we used for numeric `int` and `float` types: as with the addition operator, its behaviour depends on the types of the operands, and only some combinations of types make sense.\n",
    "\n",
    "Note also the use of dot notation to call the method `total_seconds()`. The expression `timedelta(hours = 48)` shows an example of passing named parameter.\n",
    "\n",
    "![logbook](logbook.png)\n",
    "Which of the following three additions would you expect to work, and why? What types will they produce? Write your expectations in your logbook, and then run the code to determine the actual behaviour, and comment on any surprises. Please write down in your logbook."
   ]
  },
  {
   "cell_type": "code",
   "execution_count": null,
   "id": "2d28c4c7",
   "metadata": {},
   "outputs": [],
   "source": [
    "# adding a timedelta to a timedelta\n",
    "print(delta + delta)"
   ]
  },
  {
   "cell_type": "code",
   "execution_count": null,
   "id": "d500128d",
   "metadata": {},
   "outputs": [],
   "source": [
    "# adding a datetime to a datetime\n",
    "print(now + now)"
   ]
  },
  {
   "cell_type": "code",
   "execution_count": null,
   "id": "15ec071c",
   "metadata": {},
   "outputs": [],
   "source": [
    "# adding a datetime to a timedelta\n",
    "print(now + delta)"
   ]
  },
  {
   "cell_type": "markdown",
   "id": "af967186",
   "metadata": {},
   "source": [
    "#### 3.1.3. Progress Quiz\n",
    "You can now take the Progress part of the [Lab P3 Quiz](https://moodle.ecs.soton.ac.uk/mod/quiz/view.php?id=21779)."
   ]
  },
  {
   "cell_type": "markdown",
   "id": "5e0aa4be",
   "metadata": {},
   "source": [
    "### 3.2. Understanding"
   ]
  },
  {
   "cell_type": "markdown",
   "id": "aa088a5f",
   "metadata": {
    "jp-MarkdownHeadingCollapsed": true
   },
   "source": [
    "#### 3.2.1. PyCharm IDE\n",
    "\n",
    "For this lab, we will move away from the simple text editor and instead write and run our code from the PyCharm IDE.\n",
    "\n",
    "An IDE has many advantages over a simple text editor:\n",
    "- Syntax highlighting makes it easier to spot certain errors, and can make it easier to quickly scan code in some cases.\n",
    "- Continuous syntax checking, providing feedback on your code continuously, rather than only when you ask it to run with `python mycode.py`; this can be annoying initially, but gives you the best chance of spotting an issue before moving on to another task.\n",
    "- Continuous static type checking (like `mypy`), which is not done by Python by default, will provide feedback on the types of your variables, helping you to address a host of errors before running the code (or worse, relying on unintentional behaviour).\n",
    "- Contextual autocompletion, which can save typing of long identifiers, and provides discoverability of APIs within the editor.\n",
    "- Interactive debugging, which allows you to inspect the state of a running program.\n",
    "- Refactoring tools, such as identifier renaming.\n",
    "- Integration with testing tooling.\n",
    "- And generally a whole range of other, more situational tools.\n",
    "\n",
    "Follow the instructions below to create a project `Leaderboard` in PyCharm IDE.\n",
    "- Launch PyCharm IDE. (By default, PyCharm opens the last project that you are working on; you can close the project with the menu `File -> Close Project`). A \"Welcome to PyCharm\" dialog will be opened.\n",
    "- Click on `New Project` to open the corresponding wizard.\n",
    "- Choose `Pure Python` as the project type on the left-hand side of the dialog. Select the `Location` for your project, and make sure that the name of the folder is `Leaderboard`. For example, on Windows, you can use something like this `C:\\Users\\<Your Username>\\Documents\\PycharmProjects\\Leaderboard`. (You can also use the little icon on the far right of the `Location` field to browse your computer to the appropriate location.). Finally, for the `Interpreter type`, you can use `Project venv` with an appropriate `Python version` (anything >= 3.9 will do). Click `Create` to create the project. PyCharm will open the project automatically for you.\n",
    "\n",
    "We can now create the basic structure for your project.\n",
    "- Right-click on the `Leaderboard` project in the explorer area on the left side of the PyCharm window, select `New -> Directory`. Enter `src` as the name of the new directory in the pop-up dialog. A `src` directory will be created for the project.\n",
    "- Right-click on the newly created `src` directory and select `Mark Directory as -> Sources Root`. This is to tell PyCharm that your Python source files will be in this folder.\n",
    "\n",
    "Finally, we can set up the useful tools for our project.\n",
    "- Select the `Leaderboard` project in the explorer area. Go to the menu `File -> Settings`. The Settings dialog will be opened.\n",
    "- Select `Tools -> Black`. (![Be careful](small-attention.png \"alert\") If `Black` is not installed, there will be a message to ask you to install it). Check the following boxes for `User Black formatter`, namely `On code reformat` and `On save`. From now on, your code will be beautified by `Black` whenever you save or invoke the formatter manually.\n",
    "- Click `Apply` to confirm the setting.\n",
    "- Click `OK` to close the `Settings` dialog."
   ]
  },
  {
   "cell_type": "markdown",
   "id": "4030d72c",
   "metadata": {},
   "source": [
    "#### 3.2.2. Speed-Running Leaderboard\n",
    "\n",
    "You will implement a leaderboard system for a speed-running competition. The goal in speed-running is to complete some sort of task in the shortest possible time: each attempt to complete the task is called a 'run', and shorter times (faster runs) are better. The system should handle the following operations:\n",
    "\n",
    "- Add Player Times: Add times for players based on their performance in previous runs.\n",
    "- Clear Player Times: Clear player times if they are caught cheating.\n",
    "- Display the Leaderboard: Display the top players based on their best times.\n",
    "- Calculate Average Time: Calculate and display the average time for all players.\n",
    "\n",
    "Furthermore, you should have a habit to indicate comprehensive type hints on all functions\n",
    "    - You should include these from the outset so that the automatic type checking in PyCharm can help you into the 'pit of success'.\n",
    "\n",
    "Create a new Python file `leaderboard.py` for your implementation of the speed-running leaderboard.\n",
    "- Right-click on `src` folder and select `New -> Python File`, enter `leaderboard` as the name of the Python file. PyCharm will open the file in the editor automatically."
   ]
  },
  {
   "cell_type": "markdown",
   "id": "c059f4da",
   "metadata": {},
   "source": [
    "##### Step 1 - Create the Leaderboard\n",
    "\n",
    "- Create a function called `init_leaderboard()`\n",
    "- It should initialise an empty dictionary to hold the leaderboard\n",
    "- The function should return the leaderboard\n",
    "- Make sure you provide a suitable return type, which reflects the intention of the leaderboard: to associate player _names_ (`str`s) with _durations_ (`timedelta`s)\n",
    "\n",
    "![Be careful](small-attention.png \"alert\") You might see that PyCharm will offer help here if you have not yet imported `timedelta` by offering some quick fixes."
   ]
  },
  {
   "cell_type": "code",
   "execution_count": null,
   "id": "3331ebfa",
   "metadata": {},
   "outputs": [],
   "source": [
    "# Complete the implementation for this function\n",
    "def init_leaderboard(): pass"
   ]
  },
  {
   "cell_type": "markdown",
   "id": "f147c9c3",
   "metadata": {},
   "source": [
    "##### Step 2 - Add a Player to the Leaderboard\n",
    "\n",
    "Define a function that will add a new player to the leaderboard:\n",
    "\n",
    "- Create the function `add_player` which takes two arguments\n",
    "    - `leaderboard`, the leaderboard dictionary \n",
    "    - `player_name`, the name of the player to be added\n",
    "- The function will check if the player is already on the leaderboard and return `False` if the name is already taken. Otherwise, the function returns `True`."
   ]
  },
  {
   "cell_type": "code",
   "execution_count": null,
   "id": "9520a3cd",
   "metadata": {},
   "outputs": [],
   "source": [
    "# Complete the implementation for this function\n",
    "def add_player(leaderboard, player_name): pass"
   ]
  },
  {
   "cell_type": "markdown",
   "id": "0cdd0718",
   "metadata": {},
   "source": [
    "##### Step 3 - Add a run time to a Player\n",
    "- Create a function called `add_run(leaderboard, player_name, time)`. `time` could be a numeric type representing, for example, a number of seconds or milliseconds, but you should use a `timedelta` (you may need to import it).\n",
    "- Validate the inputs before adding the time by:\n",
    "    - checking that the time is non-negative, return `1` if it is negative\n",
    "    - checking if the player is on the leaderboard, return `2` if they are not present\n",
    "- Otherwise, the input is valid and the function will return `0` after updating the player's recorded time. Furthermore, the function should only update the player's recorded time if they do not have a time associated with them already, or if the new time is better than the old time; otherwise, the function should not change the leaderboard."
   ]
  },
  {
   "cell_type": "code",
   "execution_count": null,
   "id": "1b1eca63",
   "metadata": {},
   "outputs": [],
   "source": [
    "# Complete the implementation for this function\n",
    "def add_run(leaderboard, player_name, time): pass"
   ]
  },
  {
   "cell_type": "markdown",
   "id": "4d8df08b",
   "metadata": {},
   "source": [
    "##### Step 4 - Clear player times due to cheating\n",
    "\n",
    "In any sport, there is always the possibility that someone will cheat: if so, their past performance must be discounted.\n",
    "\n",
    "- Create a function `clear_score(leaderboard, player_name)`\n",
    "- The function should remove the player's recorded time, but not remove them from the `leaderboard` itself\n",
    "- Again, returns `False` if the player is not present in the leaderboard, return `True` otherwise."
   ]
  },
  {
   "cell_type": "code",
   "execution_count": null,
   "id": "00c2f6c0",
   "metadata": {},
   "outputs": [],
   "source": [
    "# Complete the implementation for this function\n",
    "def clear_score(leaderboard, player_name): pass"
   ]
  },
  {
   "cell_type": "markdown",
   "id": "e53981c4",
   "metadata": {},
   "source": [
    "##### Step 5 - Display the Leaderboard\n",
    "\n",
    "- Create a function `display_leaderboard(leaderboard, n=3)` which takes a `leaderboard` as an argument, and an optional argument `n` - defaulting to 3 - which is the number of entries to display\n",
    "- It will print out the best `n` times in ascending order (i.e. better times at the top) in a tabular format\n",
    "- The table should have three columns: the rank (e.g. 1 for first place, 2 for second place; you can ignore ties), the player's name, and the time in the format `hh:mm:ss`.\n",
    "    - You may want to introduce a separate function for formatting the times. Think about creating an `datetime` object from the `timedelta` and use `strftime()` function.\n",
    "- The table should use tabs (`\"\\t\"`) to delimit each cell\n",
    "- If there are no times in the `leaderboard` (even when there are players with `None` on the leaderboard), then print `\"Leaderboard is empty\"`.\n",
    "- To sort a dictionary, have a look at https://docs.python.org/3/howto/sorting.html."
   ]
  },
  {
   "cell_type": "code",
   "execution_count": null,
   "id": "8c2d040a",
   "metadata": {},
   "outputs": [],
   "source": [
    "# Complete the implementation for this function\n",
    "def display_leaderboard(leaderboard, n=3): pass"
   ]
  },
  {
   "cell_type": "markdown",
   "id": "904a4c75",
   "metadata": {},
   "source": [
    "### Step 6 - Calculate the Average Score\n",
    "- Create a function `calculate_average_time()` which takes a `leaderboard` as an argument and return a tuple `(error_flag, average_time)`.\n",
    "- If there are no times in the `leaderboard`, then returns `(False, None)`. Otherwise, returns `(True, average_time)`, where `average_time` is the calculated average time for all runs of all players."
   ]
  },
  {
   "cell_type": "code",
   "execution_count": null,
   "id": "2f3c8b92",
   "metadata": {},
   "outputs": [],
   "source": [
    "# Complete the implementation for this function\n",
    "def calculate_average_time(): pass"
   ]
  },
  {
   "cell_type": "markdown",
   "id": "903ab21b",
   "metadata": {},
   "source": [
    "### Step 7 - Test the Leaderboard\n",
    "You can now test the code by following the calling the functions to simulate the evolution of a leaderboad.\n",
    "- Initialise a leaderboard instance\n",
    "- Add players to the initialised leaderboard \n",
    "- Add scores to the players in the leaderboard\n",
    "- Update scores for players \n",
    "- Display the leaderboard \n",
    "- Calculate and display the average scores\n",
    "\n",
    "An example scenario has been given to you."
   ]
  },
  {
   "cell_type": "code",
   "execution_count": null,
   "id": "7238f35d",
   "metadata": {},
   "outputs": [],
   "source": [
    "leaderboard = init_leaderboard()\n",
    "add_player(leaderboard, \"Frank\")\n",
    "add_player(leaderboard, \"Joe\")\n",
    "add_player(leaderboard, \"Alan\")\n",
    "add_player(leaderboard, \"Steve\")\n",
    "add_player(leaderboard, \"Chris\")\n",
    "display_leaderboard(leaderboard)\n",
    "add_run(leaderboard, \"Frank\", timedelta(hours=1))\n",
    "add_run(leaderboard, \"Joe\", timedelta(hours=2))\n",
    "add_run(leaderboard, \"Alan\", timedelta(hours=3))\n",
    "add_run(leaderboard, \"Alan\", timedelta(minutes=57))\n",
    "add_run(leaderboard, \"Steve\", timedelta(minutes=49))\n",
    "add_run(leaderboard, \"Chris\", timedelta(minutes=69))\n",
    "clear_score(leaderboard, \"Steve\")\n",
    "display_leaderboard(leaderboard)\n",
    "print(f\"Average best time: {calculate_average_time(leaderboard)[1]}\")"
   ]
  },
  {
   "cell_type": "markdown",
   "id": "2d5896da",
   "metadata": {},
   "source": [
    "### Step 8\n",
    "\n",
    "- Ensure your code passes inspection by `mypy --strict`"
   ]
  },
  {
   "cell_type": "markdown",
   "id": "86b86038",
   "metadata": {},
   "source": [
    "#### 3.2.3 (OPTIONAL) Full Records\n",
    "\n",
    "Create a new copy of your code called `leaderboard_extension.py`, and change it so that it records every time for each player, rather than just their personal best time. The leaderboard now should be a dictionary that maps players' names (`str`s) to the list of times (`timedelta`s)\n",
    "- Update `init_leaderboard()`, `add_player()` to reflect the new types of the dictionary.\n",
    "- Update `add_run()` so that the run is added to the list of players' times\n",
    "- Update `clear_score()` to reset the player's list of runs.\n",
    "- Ensure that `display_leaderboard()` still only shows the player's best times\n",
    "- Update `calculate_avarage_time()` to return the average of all players' runs.\n",
    "- Add a new function `get_player_times(leaderboard, player_name, n = 2) -> tuple[bool, list[timedelta]]` to return the `n` best runs of the `player_name` in ascending order. If the `player_name` is not in the leaderboard, the error flag is `False` (and returns an empty list); otherwise, the error flag is `True`.\n",
    "\n",
    "You can use the following code to check your answer."
   ]
  },
  {
   "cell_type": "code",
   "execution_count": null,
   "id": "bb017e18",
   "metadata": {},
   "outputs": [],
   "source": [
    "leaderboard = init_leaderboard()\n",
    "add_player(leaderboard, \"Frank\")\n",
    "add_player(leaderboard, \"Joe\")\n",
    "add_player(leaderboard, \"Alan\")\n",
    "add_player(leaderboard, \"Steve\")\n",
    "add_player(leaderboard, \"Chris\")\n",
    "display_leaderboard(leaderboard)\n",
    "add_run(leaderboard, \"Frank\", timedelta(hours=1))\n",
    "add_run(leaderboard, \"Joe\", timedelta(hours=2))\n",
    "add_run(leaderboard, \"Alan\", timedelta(hours=3))\n",
    "add_run(leaderboard, \"Alan\", timedelta(minutes=57))\n",
    "add_run(leaderboard, \"Steve\", timedelta(minutes=49))\n",
    "add_run(leaderboard, \"Chris\", timedelta(minutes=69))\n",
    "clear_score(leaderboard, \"Steve\")\n",
    "display_leaderboard(leaderboard)\n",
    "print(f\"Average time: {calculate_average_time(leaderboard)[1]}\")\n",
    "print(f\"Alan's best time: {get_player_times(leaderboard, 'Alan')[1]}\")\n",
    "print(f\"Frank's best time: {get_player_times(leaderboard, 'Frank', 2)[1]}\")\n",
    "print(f\"Joe's best time: {get_player_times(leaderboard, 'Joe', n = 1)[1]}\")"
   ]
  },
  {
   "cell_type": "markdown",
   "id": "8d901d96",
   "metadata": {},
   "source": [
    "#### 3.2.4 Understanding Quiz\n",
    "\n",
    "You can now take the Understanding section of the [Lab P3 Quiz](https://moodle.ecs.soton.ac.uk/mod/quiz/view.php?id=21779). Remember to confirm your logbook is ready for marking."
   ]
  }
 ],
 "metadata": {
  "kernelspec": {
   "display_name": "Python 3 (ipykernel)",
   "language": "python",
   "name": "python3"
  },
  "language_info": {
   "codemirror_mode": {
    "name": "ipython",
    "version": 3
   },
   "file_extension": ".py",
   "mimetype": "text/x-python",
   "name": "python",
   "nbconvert_exporter": "python",
   "pygments_lexer": "ipython3",
   "version": "3.13.5"
  }
 },
 "nbformat": 4,
 "nbformat_minor": 5
}
