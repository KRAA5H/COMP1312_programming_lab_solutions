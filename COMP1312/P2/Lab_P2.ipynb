{
 "cells": [
  {
   "attachments": {},
   "cell_type": "markdown",
   "id": "5c3f9a20-f870-4840-bf3d-2bc05b0c28e9",
   "metadata": {},
   "source": [
    "# COMP1312 - Lab P2 - Loops, Functions, and Lists\n",
    "\n",
    "## 1. Introduction\n",
    "### 1.1. Aims and Learning Outcomes\n",
    "This laboratory aims to:\n",
    "- Understand loops and how to use them\n",
    "- Understand functions, how to define and call functions\n",
    "- Understand lists and operations on lists including list comprehension.\n",
    "\n",
    "When you complete this laboratory, you will be able to:\n",
    "- Write a simple program using loops to model repetitive behaviours\n",
    "- Write a program with functions to have better code structures with correct type annotations.\n",
    "- Utilise the list data structure and use operators to update lists.\n",
    "\n",
    "### 1.2. Schedule\n",
    "- Preparation Time: 1 hour\n",
    "- Lab Time: 2 hours\n",
    "\n",
    "### 1.3. Required Items\n",
    "- Your logbook + pen\n",
    "- (Optional) Your laptop with software ready to use (i.e., as instructed in Lab [P0](https://moodle.ecs.soton.ac.uk/mod/page/view.php?id=20229))\n",
    "\n",
    "### 1.4. Conventions\n",
    "| Symbols | Explanation |\n",
    "| ------- | ----------- |\n",
    "|![logbook entry](logbook.png \"Logbook\") | An entry must be made in your logbook |\n",
    "|```code``` | Code to be entered (e.g., command line or to an editor) |\n",
    "|![Be careful](small-attention.png \"alert\") | Care should be exercised |\n",
    "\n",
    "### 1.5. Instructions\n",
    "Before starting the lab, you should complete the preparation tasks in Section 2 and take the Preparation part of the [Lab P2 Quiz](https://moodle.ecs.soton.ac.uk/mod/page/view.php?id=21625).\n",
    "\n",
    "You will undertake the lab working individually. During the lab, you *should* use your logbook to record what you have done, and what works and what does nrk. You can refer to the logbook in the future, e.g., to remind you about the procedures or how you overcome problems. As such, it should be legible, and the notes should be clearly referenced to the appropriate part of the lab. You will be informed when yoshouldst makenry entry in your logbook. However, you are encouraged to record additional entries, especially when something unexpected occurs, or when you discover something of interest.\n",
    "\n",
    "You will take quizzes on Progress and Understanding. The deadline for completing the [Lab P2 Quiz](https://moodle.ecs.soton.ac.uk/mod/page/view.php?id=21625) is **16:00 on Friday 31st October 2024 (Week 5)**.\n",
    "\n",
    "There will be 20 marks for Lab P2:\n",
    "\n",
    "- Preparation Quiz: 4\n",
    "- Progress Quiz: 5\n",
    "- Understanding Quiz: 7\n",
    "- Logbook: 4 "
   ]
  },
  {
   "cell_type": "markdown",
   "id": "29f1680e",
   "metadata": {},
   "source": [
    "## 2. Preparation\n",
    "\n",
    "You should be familiar with the content of the following lectures:\n",
    "- Lecture L2.2. Loops\n",
    "- Lecture L2.3. Functions\n",
    "- Lecture L3.1. Lists\n",
    "\n",
    "### 2.1. The Python Documentation\n",
    "In the lab, we some times refer you to the [Python documentation](https://docs.python.org/3/). You should use the documentation as a reference source rather than as a text book (i.e., to read from beginning to the end). This is similar to looking at the user manual of a calculator to know how to use certain functions. Through the labs, you will develop this skill to use the Python document and it will be useful in the final exam.\n",
    "\n",
    "In this lab you will be using the following Python datatypes, functions and modules predefined in Python. You can always come back to this section to find the links to their documentations. \n",
    "- https://docs.python.org/3/library/functions.html#int\n",
    "- https://docs.python.org/3/library/stdtypes.html#text-sequence-type-str\n",
    "- https://docs.python.org/3/library/functions.html#bool\n",
    "- https://docs.python.org/3/library/functions.html#print\n",
    "- https://docs.python.org/3/library/functions.html#input\n",
    "- https://docs.python.org/3/library/functions.html#int\n",
    "- https://docs.python.org/3/library/functions.html#float\n",
    "- https://docs.python.org/3/library/functions.html#func-range\n",
    "- https://docs.python.org/3/library/random.html#random.randint\n",
    "- https://docs.python.org/3/tutorial/controlflow.html#defining-functions\n",
    "- https://docs.python.org/3/library/random.html"
   ]
  },
  {
   "cell_type": "markdown",
   "id": "6d038dc7",
   "metadata": {},
   "source": [
    "### 2.2. Basic Types, Operations and Conversions\n",
    "Recall the following basic types for Python, namely `int`, `str`, `bool`, `float`. We consider the operators that takes arguments of different basic types.\n",
    "\n",
    "![logbook entry](logbook.png \"Logbook\") Please write in your logbook 2 examples that work and 2 examples that do not work for arguments of different types.\n",
    "\n",
    "Often, we need to convert values of one type to another using `int()`, `str()`, `bool()`, `float()`.\n",
    "\n",
    "![logbook entry](logbook.png \"Logbook\") For each conversion function, please write in your logbook 2 examples of the conversion function."
   ]
  },
  {
   "cell_type": "markdown",
   "id": "693e0227",
   "metadata": {},
   "source": [
    "### 2.3. Functions\n",
    "![logbook entry](logbook.png \"Logbook\") Please write in your logbook an example of a function definition which can take normal arguments and keyword arguments. Give examples to illustrate the different situations when calling the function with positional arguments, default arguments, and keyword arguments."
   ]
  },
  {
   "cell_type": "markdown",
   "id": "4c0f8c94",
   "metadata": {},
   "source": [
    "### 2.4. Some Built-in Functions\n",
    "#### 2.4.1. print()\n",
    "Consult the documentation for the `print()` function: https://docs.python.org/3/library/functions.html#print\n",
    "\n",
    "![logbook entry](logbook.png \"Logbook\") Note down what the keyword arguments `sep` and `end` of the `print()` function do.\n",
    "\n",
    "#### 2.4.2. range()\n",
    "Consult the documentation for the `range()` function: https://docs.python.org/3/library/functions.html#func-range\n",
    "\n",
    "![logbook entry](logbook.png \"Logbook\") Please note down what the 3 positional parameters of the `range()` function do."
   ]
  },
  {
   "cell_type": "markdown",
   "id": "d1e9d7e7-e267-40f9-8fb2-1cf45e0dbb16",
   "metadata": {},
   "source": [
    "### 2.5. Additional Reading \n",
    "Please take time to review the additional reading\n",
    "- Read https://introcs.cs.princeton.edu/python/13flow/\n",
    "- Read https://introcs.cs.princeton.edu/python/21function/\n",
    "- Read https://introcs.cs.princeton.edu/python/14array/"
   ]
  },
  {
   "cell_type": "markdown",
   "id": "ec2420ea",
   "metadata": {},
   "source": [
    "### 2.5. Preparation Quiz\n",
    "You can now take the Preparation part of the [Lab P2 Quiz](https://moodle.ecs.soton.ac.uk/mod/page/view.php?id=21625)."
   ]
  },
  {
   "cell_type": "markdown",
   "id": "25047ab1",
   "metadata": {},
   "source": [
    "## 3. Laboratory Work \n",
    "The lab will be in two parts for progress and understanding. "
   ]
  },
  {
   "cell_type": "markdown",
   "id": "79b7ad46",
   "metadata": {},
   "source": [
    "### 3.1. Progress\n",
    "#### 3.1.1 A Guessing Game\n",
    "\n",
    "You are now going to work on a guessing game example. The core logic is already written however it is not easy to play.\n",
    "\n",
    "You need to:\n",
    "\n",
    "- Change the print statements so that they say \"Too High\" if the guess is too high, and \"Too Low\" if the guess is too low.\n",
    "- Using an `int` variable, keep track of how many guesses it takes to guess the number correctly, and print this after the \"Correct!\" message, saying \"Number of guesses taken: <the number of guesses>\"\n",
    "- You should not change the lines that take the input from the user.\n",
    "\n",
    "For testing, we will define the number to guess, so you should not provide them as part of your answer, but you can use this code as part of your solution for testing:\n",
    "```\n",
    "import random\n",
    "random.seed(42)\n",
    "number = random.randint(1, 50)\n",
    "```\n",
    "To get started, copy the partial answer below into a new file called *guessinggame.py*: you should be able to play the game by running `python guessinggame.py` (or `python3 guessinggame.py`).\n",
    "\n",
    "![Be careful](small-attention.png \"alert\") Later in the quiz, you will be ask to submit the code (that you have modified), please do NOT include the code that defines the number to guess."
   ]
  },
  {
   "cell_type": "code",
   "execution_count": null,
   "id": "c8faa3f6",
   "metadata": {},
   "outputs": [
    {
     "name": "stdin",
     "output_type": "stream",
     "text": [
      "Guess a number:  15\n"
     ]
    },
    {
     "name": "stdout",
     "output_type": "stream",
     "text": [
      "Wrong\n"
     ]
    }
   ],
   "source": [
    "# Do NOT include this in the submitted answer\n",
    "import random\n",
    "random.seed(42)\n",
    "number = random.randint(1, 50)\n",
    "\n",
    "# Submit only the game logic below\n",
    "guess = int(input('Guess a number: '))\n",
    "while guess != number:\n",
    "    if guess < number: \n",
    "        print('Wrong')\n",
    "    if guess > number: \n",
    "        print('Wrong')\n",
    "    guess = int(input('Guess another number: '))\n",
    "\n",
    "print('Correct!')"
   ]
  },
  {
   "cell_type": "markdown",
   "id": "15713fb1",
   "metadata": {},
   "source": [
    "#### 3.1.2: Celsius and Fahrenheit\n",
    "\n",
    "The code below contains a `convert_to_fahrenheit` function that converts Celsius to Fahrenheit (including type annotations for function). It uses the following formula:\n",
    "\n",
    "- Fahrenheit = Celsius × (9 / 5) + 32\n",
    "\n",
    "![logbook entry](logbook.png \"Logbook\") Please write in your logbook how to write type annotations for functions, i.e., for parameters and return types.\n",
    "\n",
    "Edit the code so that:\n",
    "- The function returns a whole number (`int`) and not a decimal (`float`): the value must be rounded to the nearest integer (Hint: use `round()` built-in function.\n",
    "- The input parameter is expected to be an `int` and not a `str`\n",
    "- Add type hints to the signature so that it passes an inspection by `mypy` with the `--strict` flag.\n",
    "\n",
    "![Be careful](small-attention.png \"alert\") Later in the quiz, you will be ask to submit the code (that you have modified). Please submit only the function `convert_to_fahrenheit`."
   ]
  },
  {
   "cell_type": "code",
   "execution_count": null,
   "id": "25e4e7c0",
   "metadata": {},
   "outputs": [],
   "source": [
    "def convert_to_fahrenheit(celsius: str) -> float:\n",
    "    fahrenheit = (1.8 * int(celsius)) + 32\n",
    "    return fahrenheit\n",
    "\n",
    "celsius = input(\"Enter the Temperature in Celsius :\")\n",
    "print(\"Temperature in Fahrenheit :\", convert_to_fahrenheit(celsius))"
   ]
  },
  {
   "cell_type": "markdown",
   "id": "950abb99",
   "metadata": {},
   "source": [
    "Using the `convert_to_fahrenheit` as a template, write the corresponding code for `covert_to_celsius`, and to read in a value and convert it. Make sure to:\n",
    "- use the formula Celsius = (Fahrenheit - 32) × (5 / 9)\n",
    "- write the `convert_to_celsius` function so that it returns a whole number (`int`)\n",
    "- check that you've inputted an `int` not a `str`\n",
    "Again, your code will be tested against `mypy`, so you must have type hints in the function signature."
   ]
  },
  {
   "cell_type": "code",
   "execution_count": null,
   "id": "5f853082",
   "metadata": {},
   "outputs": [],
   "source": [
    "# Complete the definition of convert_to_celsius\n",
    "def convert_to_celsius(fahrentheit): pass"
   ]
  },
  {
   "cell_type": "markdown",
   "id": "002095b6",
   "metadata": {},
   "source": [
    "#### 3.1.3. Working with Lists\n",
    "Lists are a fundamental data-structure in Python, and it is important to know how to interact with them.\n",
    "\n",
    "##### `for` Loops\n",
    "The `for` loop allows you to run the same block of code potentially many times but with different values drawn from a collection. We've already seen looping over a range (e.g. to count from `1` through `7`), but the `for` loop will allow us to loop over other types as well. We can, for example, loop over a list of resident species of Columbid in the UK, printing them out in a nice bulleted list.\n",
    "```\n",
    "columbid_species = [\"Rock Dove\", \"Stock Dove\", \"Wood Pigeon\", \"Turtle Dove\"]\n",
    "print(\"The extant species of columbid in the UK are:\")\n",
    "for species in columbid_species:\n",
    "    print(\" - \" + species)\n",
    "```\n",
    "\n",
    "##### Mutability\n",
    "Strings and integers are immutable: once you create a string object it can not change: you may change which object is recorded by a variable, but not an immutable object itself. Lists, however, are mutable: we can change the object itself. We can, for example, add a new species to our list, to record that the Collared Dove is now a resident as well:\n",
    "```\n",
    "columbid_species.append(\"Collared Dove\")\n",
    "```\n",
    "Often we don't know what will be in a list when we first create it, so we may start with an empty list and add to that.\n",
    "```\n",
    "swan_species = []\n",
    "swan_species.append(\"Black Swan\")\n",
    "swan_species.append(\"Mute Swan\")\n",
    "swan_species.append(\"Bewick Swan\")\n",
    "swan_species.append(\"Whooper Swan\")\n",
    "swan_species.append(\"Black-Necked Swan\")\n",
    "swan_species.append(\"Whistling Swan\")\n",
    "swan_species.append(\"Trumpeter Swan\")\n",
    "```\n",
    "We can also remove elements from the list, either by value or index.\n",
    "```\n",
    "swan_species.pop(0)  # remove first element of list\n",
    "swan_species.pop(len(swan_species) - 1)  # remove last element of list\n",
    "swan_species.remove(\"Whistling Swan\")  # remove an element by value\n",
    "```\n",
    "\n",
    "![logbook entry](logbook.png \"Logbook\") Please write in your logbook a summary of the common operators for lists, such as `append`, `pop`, `remove`, etc.\n",
    "\n",
    "##### Task 1: Updating a list\n",
    "Write a function `copy_doves` that takes two lists of strings: one is a source list, and the other is a destination list (in this order). The function:\n",
    "\n",
    "- Must loop over the elements of the source list, and append any element that ends with \"Dove\" to the destination list\n",
    "    - Find a suitable function in the documentation for `str` to help determine whether a string ends with a given string: [Built-in Types — Python 3.13.0 documentation](https://docs.python.org/3/library/stdtypes.html#string-methods)\n",
    "- Should add the new elements in the same order they appear in the source list\n",
    "- Must not modify the source list\n",
    "- Must not return anything\n",
    "- Must have a complete signature, with types on the parameters, and return type `None`."
   ]
  },
  {
   "cell_type": "code",
   "execution_count": null,
   "id": "4f6cf3b9",
   "metadata": {},
   "outputs": [],
   "source": [
    "# Complete the definition for copy_doves\n",
    "def copy_doves(): pass"
   ]
  },
  {
   "cell_type": "markdown",
   "id": "b73ad3c3",
   "metadata": {},
   "source": [
    "Looping over a list and transforming/selecting some of its values is a common task, and Python has a dedicated feature with dedicated syntax to support this. A simple transformation to start:\n",
    "```\n",
    "columbid_species = [\"Rock Dove\", \"Stock Dove\", \"Wood Pigeon\", \"Turtle Dove\", \"Collared Dove\"]\n",
    "\n",
    "# prepare a new list, which contains the lengths of the names of the columbid species\n",
    "length_of_names = [len(species) for species in columbid_species]\n",
    "```\n",
    "Inside the square brackets (which indicate this is a list comprehension), the similarities with the for-loop syntax: for species in columbid_species should make sense, but we are preceding it with an expression in which we can use the looping variable (in this case species). In this case, the expression is just taking the length of the string, but we could use any expression.\n",
    "\n",
    "![logbook entry](logbook.png \"Logbook\") What do you think the list comprehension `[n for n in numbers]` would do (assuming numbers is a list)? Please write to your logbook.\n",
    "\n",
    "As well as projecting the elements to new values in a list comprehension, we can also filter the elements in a list:\n",
    "```\n",
    "swan_species = ['Black Swan', 'Mute Swan', 'Bewick Swan', 'Whooper Swan', 'Black-Necked Swan', 'Whistling Swan', 'Trumpeter Swan']\n",
    "\n",
    "# prepare a new list, which contains all species whose name includes the string \"Black\"\n",
    "black_swans = [species for species in swan_species if \"Black\" in species]\n",
    "```\n",
    "The if syntax should look fairly intuitive: we are providing a condition (or filter) to decide which elements to project. If the condition is True, then the element is projected into the new list, otherwise, it is not: it does not modify the original list. This example also introduces another way of using in: if needle and haystack are strings, then needle in haystack will evaluate to a bool indicating whether the needle appears anywhere in the haystack.\n",
    "\n",
    "##### List Task 2: Projecting a new List\n",
    "\n",
    "Write a second function called `extract_doves_and_pigeons` which takes a single list, and returns a new list, which contains only the elements of the first list that end with \"Dove\" or \"Pigeon\".\n",
    "- Again, your function should not modify the source list.\n",
    "- You should use a list comprehension.\n",
    "- Your code will be run through mypy, so make sure you have provided a complete signature for your function and tested this locally before submitting"
   ]
  },
  {
   "cell_type": "code",
   "execution_count": null,
   "id": "50957eb3",
   "metadata": {},
   "outputs": [],
   "source": [
    "# Complete the definition of function extract_doves_and_pigeons\n",
    "def extract_doves_and_pigeons(): pass"
   ]
  },
  {
   "cell_type": "markdown",
   "id": "e09f24c1-a321-4c0e-98ae-606256d00200",
   "metadata": {},
   "source": [
    "#### 3.1.4. (OPTIONAL) Global vs Local Scopes\n",
    "In Lecture L2.3, we discuss the scope of variables. Consider the following code snippet.\n"
   ]
  },
  {
   "cell_type": "code",
   "execution_count": null,
   "id": "d65f1cd9-ad1e-4924-b642-d05155defa91",
   "metadata": {},
   "outputs": [],
   "source": [
    "balance = 0\n",
    "\n",
    "# deposit £1\n",
    "def deposit():\n",
    "  global balance\n",
    "  balance = balance + 1\n",
    "\n",
    "# withdraw £5 (it is allowed for the balance to be negative)\n",
    "def withdraw():\n",
    "  balance = balance - 5\n",
    "\n",
    "# Empty the bank account\n",
    "def empty():\n",
    "  balance = 0"
   ]
  },
  {
   "cell_type": "markdown",
   "id": "447ffcd7-1c21-445e-b2ec-075d0b61769d",
   "metadata": {},
   "source": [
    "Fixed the above code so that the Piggy Bank works as described by the comments. You will need the answer for the (optional) quiz later. (Hint: Consider the scope of the variable balance)."
   ]
  },
  {
   "cell_type": "markdown",
   "id": "147993dd",
   "metadata": {},
   "source": [
    "#### 3.1.5. Progress Quiz\n",
    "You can now take the Progress part of the [Lab P2 Quiz](https://moodle.ecs.soton.ac.uk/mod/page/view.php?id=21625)."
   ]
  },
  {
   "cell_type": "markdown",
   "id": "eaa27ac3",
   "metadata": {},
   "source": [
    "### 3.2. Understanding - The Treasures and Monsters Adventure\n",
    "You will code this game using a simple Text Editor, running your code from a terminal to test it.\n",
    "\n",
    "You will write a simple text-based adventure game where the player can move through rooms. The player will start in a room with three doors. They can choose to go through any of the doors into a different room. Rooms will either have something to pick up, e.g., a monster, or a treasure. The player can choose to fight the monster or flee. If they find the treasure, they win the game. If they are defeated by the monster, they lose the game.\n",
    "\n",
    "In our implementation, each room will have a corresponding function, which we will call when the player enters the room."
   ]
  },
  {
   "cell_type": "markdown",
   "id": "22615c00",
   "metadata": {},
   "source": [
    "#### Step 1 - Define the `treasure_room()` Function\n",
    "\n",
    "When a player enters this room they will find a treasure chest.\n",
    "\n",
    "- Define the `treasure_room()` function \n",
    "- Print the following message indicating the player has won the game.\n",
    "```\n",
    "\"You have found the ultimate treasure chest! You win the game!\"\n",
    "```"
   ]
  },
  {
   "cell_type": "code",
   "execution_count": 1,
   "id": "02375f52",
   "metadata": {},
   "outputs": [],
   "source": [
    "# Complete the definition of treasure_room()\n",
    "def treasure_room(): pass"
   ]
  },
  {
   "cell_type": "markdown",
   "id": "eef2e7fc",
   "metadata": {},
   "source": [
    "#### Step 2 - Define the `item_room()` Function\n",
    "You will start by creating the `item_room()` which contains a random item from a list. First:\n",
    "- Start by importing the `randint` function from the `random` module, which will be used to generate random numbers throughout the game, i.e., `from random import randint`\n",
    "- Create a global list of named `room_items` that contains various items a player might find in a room. Cut and paste the following line in your code so that it is globally accessible."
   ]
  },
  {
   "cell_type": "code",
   "execution_count": null,
   "id": "681eeb2d",
   "metadata": {},
   "outputs": [],
   "source": [
    "room_items = [\"bow\", \"armour\", \"boomerang\", \"shield\", \"sword\"]"
   ]
  },
  {
   "cell_type": "markdown",
   "id": "c318904d",
   "metadata": {},
   "source": [
    "- Define the `item_room()` function\n",
    "    - Generate a random number that will be used to select an item from the `room_items` list\n",
    "    - Print the following message indicating the player has found an item from the room_things list and has picked it up.\n",
    "    ```\n",
    "    \"You found <item>, you decide to pick it up!\"\n",
    "    ```\n",
    "    (Replace <item> with the randomly selected item.)\n",
    "    - As this is a very simple text adventure, we will simply return to the previous room once the player has picked up the item by using a `return` statement"
   ]
  },
  {
   "cell_type": "code",
   "execution_count": 2,
   "id": "d0df188e",
   "metadata": {},
   "outputs": [],
   "source": [
    "# Complete the definition of item_room() function\n",
    "def item_room(): pass"
   ]
  },
  {
   "cell_type": "markdown",
   "id": "7033ca69",
   "metadata": {},
   "source": [
    "#### Step 3 - Define the `monster_room()` Function\n",
    "\n",
    "This function simulates a room with a monster.\n",
    "- Print a message stating the player has entered a room with a monster.\n",
    "```\n",
    "\"You have entered a room with a monster!\"\n",
    "```\n",
    "- Print a prompt for the user to choose whether to fight or flee. `\"Do you choose to fight or flee?\"`\n",
    "\n",
    "    - If the player chooses to fight, call another function `fight_monster()` (see next step) to handle the fight and print the result of the fight before returning to the previous room\n",
    "    - If the player chooses to flee, print a message stating that the player fled back to the previous room and immediately return from the function, to simulate going back to the previous room. `\"You fled back to the starting room.\"`\n",
    "- If the input is invalid, it will prompt the player again to make a valid choice. `\"Invalid choice. Please choose to fight or flee.\"`"
   ]
  },
  {
   "cell_type": "code",
   "execution_count": null,
   "id": "f84c180c",
   "metadata": {},
   "outputs": [],
   "source": [
    "# Complete the definition of monster_room() function\n",
    "def monster_room(): pass"
   ]
  },
  {
   "cell_type": "markdown",
   "id": "33f766d0",
   "metadata": {},
   "source": [
    "#### Step 4 - Define the `fight_monster()` Function\n",
    "This function simulates fighting a monster, and will return either `True` or `False` depending on the outcome of the fight.\n",
    "- Print a message indicating the fight has begun. `\"You are fighting the monster...\"`\n",
    "- Using the `randint` function, generate a random number between 0 and 10 (exclusive)\n",
    "    - If the random number is greater than 3 then the player will defeat the monster, print the message `\"You defeated the monster! You win!\"` and return `True` if this is the case\n",
    "    - Otherwise, the player is defeated, print the message `\"The monster defeated you. You lose the game.\"` and return `False` if this is the case\n",
    "- Now update the `monster_room()` function so that it returns the result of calling `fight_monster()` when the player chooses to fight, and return `True` if the player chooses to flee: these values will be used by the `starting_room()` function, which we will write next."
   ]
  },
  {
   "cell_type": "markdown",
   "id": "9018340f",
   "metadata": {},
   "source": [
    "#### Step 5 - Define the `starting_room()` Function\n",
    "\n",
    "This function initialises the game and manages the player's choices.\n",
    "\n",
    "- Create a variable that will store the number of doors in the game, for testing purposes set this to 3\n",
    "- Generate a random number between 1 and the total number of doors to be the number of the door to the treasure room, and record it in a suitably named local variable\n",
    "- Print a message indicating that the player is in a room with the defined number of doors, e.g., `\"You are in a room with 3 doors.\"`\n",
    "- Inside a `while` loop, prompt the player to choose a door to enter, e.g., `\"Which door (1 - 3) do you choose? \"`\n",
    "    - If the player chooses the treasure room door, call the treasure room function and terminate the `while` loop.\n",
    "    - If the player chooses an incorrect door, use `randint` to generate a random number either 0 or 1. If it is 0, the player encounters an item and if it is 1, the player encounters a monster.\n",
    "    - If the player encounters a monster, call the `monster_room()` function, conditioning on its return value:\n",
    "        - If the player is defeated, end the game. Think about your use of the `while` loop.\n",
    "        - If the player survives the encounter, continue with the `while` loop\n",
    "    - If the player encounters an item, call the `item_room()` function and continue with the `while` loop"
   ]
  },
  {
   "cell_type": "markdown",
   "id": "1051f66c",
   "metadata": {},
   "source": [
    "#### Step 6 - Run the Game\n",
    "\n",
    "Finally, call the `starting_room()` function to run the game. Where you call this function within the file is important.\n",
    "\n",
    "![Be careful](small-attention.png \"alert\") Before continue, make sure that you saved this solution to a file, e.g., `treasures_basic.py`."
   ]
  },
  {
   "cell_type": "markdown",
   "id": "bb66de8e",
   "metadata": {},
   "source": [
    "#### Step 7 - (OPTIONAL) Game Record\n",
    "In this step, we extend the game by recording the rooms and adding features to the system to record the progress of the game.\n",
    "- In `starting_room` function, introduce a local variable `visited_rooms` to record the list of rooms that the player visited, and another local variable `picked_up_items` record the list of items that the player has picked up.\n",
    "- On exit, function `starting_room` will return a tuple `(visited_rooms, picked_up_items)`.\n",
    "- Make sure to update `starting_room` function to record the list of visited rooms accordingly.\n",
    "- Add a keyword argument for `item_room()` called `items` to take a list of items as an input and update this list with the picked up item.\n",
    "- Add a keyword argument for `fight_monster()` called `items` to take a list of (picked-up) items as an input. For every item that the player has picked up, the point required for defeating the monster is reduced by 1 (see Step 4). For example, without any items, the required points to defeat a monster is 4 (more than 3). With 1 item, the required points will be 3, with 2 items, the required points will be 2, etc.\n",
    "- Add a keyword argument for `monster_room()` called `items`  to take a list of (picked-up) items as an input. Make sure that this argument is passed to `fight_monster()` function as required.\n",
    "\n",
    "![Be careful](small-attention.png \"alert\") Before continue, make sure that you saved this solution to a file, e.g., `treasures_extension.py`."
   ]
  },
  {
   "cell_type": "markdown",
   "id": "26045856",
   "metadata": {},
   "source": [
    "#### Step 8. Understanding Quiz\n",
    "You can now take the Understanding part of the [Lab P2 Quiz](https://moodle.ecs.soton.ac.uk/mod/page/view.php?id=21625)."
   ]
  }
 ],
 "metadata": {
  "kernelspec": {
   "display_name": "Python 3 (ipykernel)",
   "language": "python",
   "name": "python3"
  },
  "language_info": {
   "codemirror_mode": {
    "name": "ipython",
    "version": 3
   },
   "file_extension": ".py",
   "mimetype": "text/x-python",
   "name": "python",
   "nbconvert_exporter": "python",
   "pygments_lexer": "ipython3",
   "version": "3.13.5"
  }
 },
 "nbformat": 4,
 "nbformat_minor": 5
}
